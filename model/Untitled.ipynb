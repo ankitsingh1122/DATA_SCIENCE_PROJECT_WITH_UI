{
 "cells": [
  {
   "cell_type": "code",
   "execution_count": 1,
   "id": "840b3c32",
   "metadata": {},
   "outputs": [],
   "source": [
    "import pandas as pd\n",
    "import matplotlib.pyplot as plt\n",
    "from functools import reduce"
   ]
  },
  {
   "cell_type": "code",
   "execution_count": 2,
   "id": "ab01acce",
   "metadata": {},
   "outputs": [],
   "source": [
    "dfs = pd.read_csv('heart.csv')"
   ]
  },
  {
   "cell_type": "code",
   "execution_count": 3,
   "id": "7bff039b",
   "metadata": {},
   "outputs": [
    {
     "data": {
      "text/html": [
       "<div>\n",
       "<style scoped>\n",
       "    .dataframe tbody tr th:only-of-type {\n",
       "        vertical-align: middle;\n",
       "    }\n",
       "\n",
       "    .dataframe tbody tr th {\n",
       "        vertical-align: top;\n",
       "    }\n",
       "\n",
       "    .dataframe thead th {\n",
       "        text-align: right;\n",
       "    }\n",
       "</style>\n",
       "<table border=\"1\" class=\"dataframe\">\n",
       "  <thead>\n",
       "    <tr style=\"text-align: right;\">\n",
       "      <th></th>\n",
       "      <th>Age</th>\n",
       "      <th>Sex</th>\n",
       "      <th>ChestPainType</th>\n",
       "      <th>RestingBP</th>\n",
       "      <th>Cholesterol</th>\n",
       "      <th>FastingBS</th>\n",
       "      <th>RestingECG</th>\n",
       "      <th>MaxHR</th>\n",
       "      <th>ExerciseAngina</th>\n",
       "      <th>Oldpeak</th>\n",
       "      <th>ST_Slope</th>\n",
       "      <th>HeartDisease</th>\n",
       "    </tr>\n",
       "  </thead>\n",
       "  <tbody>\n",
       "    <tr>\n",
       "      <th>0</th>\n",
       "      <td>40</td>\n",
       "      <td>1</td>\n",
       "      <td>1</td>\n",
       "      <td>140</td>\n",
       "      <td>289</td>\n",
       "      <td>0</td>\n",
       "      <td>1</td>\n",
       "      <td>172</td>\n",
       "      <td>1</td>\n",
       "      <td>0.0</td>\n",
       "      <td>1</td>\n",
       "      <td>0</td>\n",
       "    </tr>\n",
       "    <tr>\n",
       "      <th>1</th>\n",
       "      <td>49</td>\n",
       "      <td>2</td>\n",
       "      <td>2</td>\n",
       "      <td>160</td>\n",
       "      <td>180</td>\n",
       "      <td>0</td>\n",
       "      <td>1</td>\n",
       "      <td>156</td>\n",
       "      <td>1</td>\n",
       "      <td>1.0</td>\n",
       "      <td>2</td>\n",
       "      <td>1</td>\n",
       "    </tr>\n",
       "    <tr>\n",
       "      <th>2</th>\n",
       "      <td>37</td>\n",
       "      <td>1</td>\n",
       "      <td>1</td>\n",
       "      <td>130</td>\n",
       "      <td>283</td>\n",
       "      <td>0</td>\n",
       "      <td>2</td>\n",
       "      <td>98</td>\n",
       "      <td>1</td>\n",
       "      <td>0.0</td>\n",
       "      <td>1</td>\n",
       "      <td>0</td>\n",
       "    </tr>\n",
       "    <tr>\n",
       "      <th>3</th>\n",
       "      <td>48</td>\n",
       "      <td>2</td>\n",
       "      <td>3</td>\n",
       "      <td>138</td>\n",
       "      <td>214</td>\n",
       "      <td>0</td>\n",
       "      <td>1</td>\n",
       "      <td>108</td>\n",
       "      <td>2</td>\n",
       "      <td>1.5</td>\n",
       "      <td>2</td>\n",
       "      <td>1</td>\n",
       "    </tr>\n",
       "    <tr>\n",
       "      <th>4</th>\n",
       "      <td>54</td>\n",
       "      <td>1</td>\n",
       "      <td>2</td>\n",
       "      <td>150</td>\n",
       "      <td>195</td>\n",
       "      <td>0</td>\n",
       "      <td>1</td>\n",
       "      <td>122</td>\n",
       "      <td>1</td>\n",
       "      <td>0.0</td>\n",
       "      <td>1</td>\n",
       "      <td>0</td>\n",
       "    </tr>\n",
       "    <tr>\n",
       "      <th>...</th>\n",
       "      <td>...</td>\n",
       "      <td>...</td>\n",
       "      <td>...</td>\n",
       "      <td>...</td>\n",
       "      <td>...</td>\n",
       "      <td>...</td>\n",
       "      <td>...</td>\n",
       "      <td>...</td>\n",
       "      <td>...</td>\n",
       "      <td>...</td>\n",
       "      <td>...</td>\n",
       "      <td>...</td>\n",
       "    </tr>\n",
       "    <tr>\n",
       "      <th>913</th>\n",
       "      <td>45</td>\n",
       "      <td>1</td>\n",
       "      <td>4</td>\n",
       "      <td>110</td>\n",
       "      <td>264</td>\n",
       "      <td>0</td>\n",
       "      <td>1</td>\n",
       "      <td>132</td>\n",
       "      <td>1</td>\n",
       "      <td>1.2</td>\n",
       "      <td>2</td>\n",
       "      <td>1</td>\n",
       "    </tr>\n",
       "    <tr>\n",
       "      <th>914</th>\n",
       "      <td>68</td>\n",
       "      <td>1</td>\n",
       "      <td>3</td>\n",
       "      <td>144</td>\n",
       "      <td>193</td>\n",
       "      <td>1</td>\n",
       "      <td>1</td>\n",
       "      <td>141</td>\n",
       "      <td>1</td>\n",
       "      <td>3.4</td>\n",
       "      <td>2</td>\n",
       "      <td>1</td>\n",
       "    </tr>\n",
       "    <tr>\n",
       "      <th>915</th>\n",
       "      <td>57</td>\n",
       "      <td>1</td>\n",
       "      <td>3</td>\n",
       "      <td>130</td>\n",
       "      <td>131</td>\n",
       "      <td>0</td>\n",
       "      <td>1</td>\n",
       "      <td>115</td>\n",
       "      <td>2</td>\n",
       "      <td>1.2</td>\n",
       "      <td>2</td>\n",
       "      <td>1</td>\n",
       "    </tr>\n",
       "    <tr>\n",
       "      <th>916</th>\n",
       "      <td>57</td>\n",
       "      <td>2</td>\n",
       "      <td>1</td>\n",
       "      <td>130</td>\n",
       "      <td>236</td>\n",
       "      <td>0</td>\n",
       "      <td>3</td>\n",
       "      <td>174</td>\n",
       "      <td>1</td>\n",
       "      <td>0.0</td>\n",
       "      <td>2</td>\n",
       "      <td>1</td>\n",
       "    </tr>\n",
       "    <tr>\n",
       "      <th>917</th>\n",
       "      <td>38</td>\n",
       "      <td>1</td>\n",
       "      <td>2</td>\n",
       "      <td>138</td>\n",
       "      <td>175</td>\n",
       "      <td>0</td>\n",
       "      <td>1</td>\n",
       "      <td>173</td>\n",
       "      <td>1</td>\n",
       "      <td>0.0</td>\n",
       "      <td>1</td>\n",
       "      <td>0</td>\n",
       "    </tr>\n",
       "  </tbody>\n",
       "</table>\n",
       "<p>918 rows × 12 columns</p>\n",
       "</div>"
      ],
      "text/plain": [
       "     Age  Sex  ChestPainType  RestingBP  Cholesterol  FastingBS  RestingECG  \\\n",
       "0     40    1              1        140          289          0           1   \n",
       "1     49    2              2        160          180          0           1   \n",
       "2     37    1              1        130          283          0           2   \n",
       "3     48    2              3        138          214          0           1   \n",
       "4     54    1              2        150          195          0           1   \n",
       "..   ...  ...            ...        ...          ...        ...         ...   \n",
       "913   45    1              4        110          264          0           1   \n",
       "914   68    1              3        144          193          1           1   \n",
       "915   57    1              3        130          131          0           1   \n",
       "916   57    2              1        130          236          0           3   \n",
       "917   38    1              2        138          175          0           1   \n",
       "\n",
       "     MaxHR  ExerciseAngina  Oldpeak  ST_Slope  HeartDisease  \n",
       "0      172               1      0.0         1             0  \n",
       "1      156               1      1.0         2             1  \n",
       "2       98               1      0.0         1             0  \n",
       "3      108               2      1.5         2             1  \n",
       "4      122               1      0.0         1             0  \n",
       "..     ...             ...      ...       ...           ...  \n",
       "913    132               1      1.2         2             1  \n",
       "914    141               1      3.4         2             1  \n",
       "915    115               2      1.2         2             1  \n",
       "916    174               1      0.0         2             1  \n",
       "917    173               1      0.0         1             0  \n",
       "\n",
       "[918 rows x 12 columns]"
      ]
     },
     "execution_count": 3,
     "metadata": {},
     "output_type": "execute_result"
    }
   ],
   "source": [
    "dfs"
   ]
  },
  {
   "cell_type": "code",
   "execution_count": 4,
   "id": "9dac730d",
   "metadata": {},
   "outputs": [
    {
     "data": {
      "text/plain": [
       "Age                 int64\n",
       "Sex                 int64\n",
       "ChestPainType       int64\n",
       "RestingBP           int64\n",
       "Cholesterol         int64\n",
       "FastingBS           int64\n",
       "RestingECG          int64\n",
       "MaxHR               int64\n",
       "ExerciseAngina      int64\n",
       "Oldpeak           float64\n",
       "ST_Slope            int64\n",
       "HeartDisease        int64\n",
       "dtype: object"
      ]
     },
     "execution_count": 4,
     "metadata": {},
     "output_type": "execute_result"
    }
   ],
   "source": [
    "dfs.dtypes"
   ]
  },
  {
   "cell_type": "code",
   "execution_count": 5,
   "id": "1323bbc8",
   "metadata": {},
   "outputs": [
    {
     "name": "stdout",
     "output_type": "stream",
     "text": [
      "<class 'pandas.core.frame.DataFrame'>\n",
      "RangeIndex: 918 entries, 0 to 917\n",
      "Data columns (total 12 columns):\n",
      " #   Column          Non-Null Count  Dtype  \n",
      "---  ------          --------------  -----  \n",
      " 0   Age             918 non-null    int64  \n",
      " 1   Sex             918 non-null    int64  \n",
      " 2   ChestPainType   918 non-null    int64  \n",
      " 3   RestingBP       918 non-null    int64  \n",
      " 4   Cholesterol     918 non-null    int64  \n",
      " 5   FastingBS       918 non-null    int64  \n",
      " 6   RestingECG      918 non-null    int64  \n",
      " 7   MaxHR           918 non-null    int64  \n",
      " 8   ExerciseAngina  918 non-null    int64  \n",
      " 9   Oldpeak         918 non-null    float64\n",
      " 10  ST_Slope        918 non-null    int64  \n",
      " 11  HeartDisease    918 non-null    int64  \n",
      "dtypes: float64(1), int64(11)\n",
      "memory usage: 86.2 KB\n"
     ]
    }
   ],
   "source": [
    "dfs.info()"
   ]
  },
  {
   "cell_type": "code",
   "execution_count": 6,
   "id": "eb06b125",
   "metadata": {},
   "outputs": [
    {
     "data": {
      "text/plain": [
       "array([1, 2], dtype=int64)"
      ]
     },
     "execution_count": 6,
     "metadata": {},
     "output_type": "execute_result"
    }
   ],
   "source": [
    "dfs['Sex'].unique()"
   ]
  },
  {
   "cell_type": "markdown",
   "id": "12ef62a7",
   "metadata": {},
   "source": [
    "1= Female 2= male"
   ]
  },
  {
   "cell_type": "code",
   "execution_count": 7,
   "id": "b1d34f9b",
   "metadata": {},
   "outputs": [
    {
     "data": {
      "text/plain": [
       "array([1, 2, 3, 4], dtype=int64)"
      ]
     },
     "execution_count": 7,
     "metadata": {},
     "output_type": "execute_result"
    }
   ],
   "source": [
    "dfs['ChestPainType'].unique()"
   ]
  },
  {
   "cell_type": "markdown",
   "id": "18696aab",
   "metadata": {},
   "source": [
    " 1= ATA 2= NAP 3 =ASY 4=TA"
   ]
  },
  {
   "cell_type": "code",
   "execution_count": 8,
   "id": "4a2eff67",
   "metadata": {},
   "outputs": [
    {
     "data": {
      "text/plain": [
       "array([1, 2, 3], dtype=int64)"
      ]
     },
     "execution_count": 8,
     "metadata": {},
     "output_type": "execute_result"
    }
   ],
   "source": [
    "dfs['RestingECG'].unique()"
   ]
  },
  {
   "cell_type": "markdown",
   "id": "04efe6d2",
   "metadata": {},
   "source": [
    "1=Normal 2=ST  3=LVH  "
   ]
  },
  {
   "cell_type": "code",
   "execution_count": 9,
   "id": "99158b3a",
   "metadata": {},
   "outputs": [
    {
     "data": {
      "text/plain": [
       "array([1, 2], dtype=int64)"
      ]
     },
     "execution_count": 9,
     "metadata": {},
     "output_type": "execute_result"
    }
   ],
   "source": [
    "dfs['ExerciseAngina'].unique()"
   ]
  },
  {
   "cell_type": "markdown",
   "id": "f6b8c59c",
   "metadata": {},
   "source": [
    "1= no 2 = yes"
   ]
  },
  {
   "cell_type": "code",
   "execution_count": 10,
   "id": "a4326f5d",
   "metadata": {},
   "outputs": [
    {
     "data": {
      "text/plain": [
       "array([1, 2, 3], dtype=int64)"
      ]
     },
     "execution_count": 10,
     "metadata": {},
     "output_type": "execute_result"
    }
   ],
   "source": [
    "dfs['ST_Slope'].unique()"
   ]
  },
  {
   "cell_type": "markdown",
   "id": "1883f381",
   "metadata": {},
   "source": [
    "1=Up  2= Flat 3=Down"
   ]
  },
  {
   "cell_type": "code",
   "execution_count": 11,
   "id": "d39c6010",
   "metadata": {},
   "outputs": [
    {
     "data": {
      "text/html": [
       "<div>\n",
       "<style scoped>\n",
       "    .dataframe tbody tr th:only-of-type {\n",
       "        vertical-align: middle;\n",
       "    }\n",
       "\n",
       "    .dataframe tbody tr th {\n",
       "        vertical-align: top;\n",
       "    }\n",
       "\n",
       "    .dataframe thead th {\n",
       "        text-align: right;\n",
       "    }\n",
       "</style>\n",
       "<table border=\"1\" class=\"dataframe\">\n",
       "  <thead>\n",
       "    <tr style=\"text-align: right;\">\n",
       "      <th></th>\n",
       "      <th>Age</th>\n",
       "      <th>Sex</th>\n",
       "      <th>ChestPainType</th>\n",
       "      <th>RestingBP</th>\n",
       "      <th>Cholesterol</th>\n",
       "      <th>FastingBS</th>\n",
       "      <th>RestingECG</th>\n",
       "      <th>MaxHR</th>\n",
       "      <th>ExerciseAngina</th>\n",
       "      <th>Oldpeak</th>\n",
       "      <th>ST_Slope</th>\n",
       "      <th>HeartDisease</th>\n",
       "    </tr>\n",
       "  </thead>\n",
       "  <tbody>\n",
       "    <tr>\n",
       "      <th>0</th>\n",
       "      <td>40</td>\n",
       "      <td>1</td>\n",
       "      <td>1</td>\n",
       "      <td>140</td>\n",
       "      <td>289</td>\n",
       "      <td>0</td>\n",
       "      <td>1</td>\n",
       "      <td>172</td>\n",
       "      <td>1</td>\n",
       "      <td>0.0</td>\n",
       "      <td>1</td>\n",
       "      <td>0</td>\n",
       "    </tr>\n",
       "    <tr>\n",
       "      <th>1</th>\n",
       "      <td>49</td>\n",
       "      <td>2</td>\n",
       "      <td>2</td>\n",
       "      <td>160</td>\n",
       "      <td>180</td>\n",
       "      <td>0</td>\n",
       "      <td>1</td>\n",
       "      <td>156</td>\n",
       "      <td>1</td>\n",
       "      <td>1.0</td>\n",
       "      <td>2</td>\n",
       "      <td>1</td>\n",
       "    </tr>\n",
       "    <tr>\n",
       "      <th>2</th>\n",
       "      <td>37</td>\n",
       "      <td>1</td>\n",
       "      <td>1</td>\n",
       "      <td>130</td>\n",
       "      <td>283</td>\n",
       "      <td>0</td>\n",
       "      <td>2</td>\n",
       "      <td>98</td>\n",
       "      <td>1</td>\n",
       "      <td>0.0</td>\n",
       "      <td>1</td>\n",
       "      <td>0</td>\n",
       "    </tr>\n",
       "    <tr>\n",
       "      <th>3</th>\n",
       "      <td>48</td>\n",
       "      <td>2</td>\n",
       "      <td>3</td>\n",
       "      <td>138</td>\n",
       "      <td>214</td>\n",
       "      <td>0</td>\n",
       "      <td>1</td>\n",
       "      <td>108</td>\n",
       "      <td>2</td>\n",
       "      <td>1.5</td>\n",
       "      <td>2</td>\n",
       "      <td>1</td>\n",
       "    </tr>\n",
       "    <tr>\n",
       "      <th>4</th>\n",
       "      <td>54</td>\n",
       "      <td>1</td>\n",
       "      <td>2</td>\n",
       "      <td>150</td>\n",
       "      <td>195</td>\n",
       "      <td>0</td>\n",
       "      <td>1</td>\n",
       "      <td>122</td>\n",
       "      <td>1</td>\n",
       "      <td>0.0</td>\n",
       "      <td>1</td>\n",
       "      <td>0</td>\n",
       "    </tr>\n",
       "    <tr>\n",
       "      <th>...</th>\n",
       "      <td>...</td>\n",
       "      <td>...</td>\n",
       "      <td>...</td>\n",
       "      <td>...</td>\n",
       "      <td>...</td>\n",
       "      <td>...</td>\n",
       "      <td>...</td>\n",
       "      <td>...</td>\n",
       "      <td>...</td>\n",
       "      <td>...</td>\n",
       "      <td>...</td>\n",
       "      <td>...</td>\n",
       "    </tr>\n",
       "    <tr>\n",
       "      <th>913</th>\n",
       "      <td>45</td>\n",
       "      <td>1</td>\n",
       "      <td>4</td>\n",
       "      <td>110</td>\n",
       "      <td>264</td>\n",
       "      <td>0</td>\n",
       "      <td>1</td>\n",
       "      <td>132</td>\n",
       "      <td>1</td>\n",
       "      <td>1.2</td>\n",
       "      <td>2</td>\n",
       "      <td>1</td>\n",
       "    </tr>\n",
       "    <tr>\n",
       "      <th>914</th>\n",
       "      <td>68</td>\n",
       "      <td>1</td>\n",
       "      <td>3</td>\n",
       "      <td>144</td>\n",
       "      <td>193</td>\n",
       "      <td>1</td>\n",
       "      <td>1</td>\n",
       "      <td>141</td>\n",
       "      <td>1</td>\n",
       "      <td>3.4</td>\n",
       "      <td>2</td>\n",
       "      <td>1</td>\n",
       "    </tr>\n",
       "    <tr>\n",
       "      <th>915</th>\n",
       "      <td>57</td>\n",
       "      <td>1</td>\n",
       "      <td>3</td>\n",
       "      <td>130</td>\n",
       "      <td>131</td>\n",
       "      <td>0</td>\n",
       "      <td>1</td>\n",
       "      <td>115</td>\n",
       "      <td>2</td>\n",
       "      <td>1.2</td>\n",
       "      <td>2</td>\n",
       "      <td>1</td>\n",
       "    </tr>\n",
       "    <tr>\n",
       "      <th>916</th>\n",
       "      <td>57</td>\n",
       "      <td>2</td>\n",
       "      <td>1</td>\n",
       "      <td>130</td>\n",
       "      <td>236</td>\n",
       "      <td>0</td>\n",
       "      <td>3</td>\n",
       "      <td>174</td>\n",
       "      <td>1</td>\n",
       "      <td>0.0</td>\n",
       "      <td>2</td>\n",
       "      <td>1</td>\n",
       "    </tr>\n",
       "    <tr>\n",
       "      <th>917</th>\n",
       "      <td>38</td>\n",
       "      <td>1</td>\n",
       "      <td>2</td>\n",
       "      <td>138</td>\n",
       "      <td>175</td>\n",
       "      <td>0</td>\n",
       "      <td>1</td>\n",
       "      <td>173</td>\n",
       "      <td>1</td>\n",
       "      <td>0.0</td>\n",
       "      <td>1</td>\n",
       "      <td>0</td>\n",
       "    </tr>\n",
       "  </tbody>\n",
       "</table>\n",
       "<p>918 rows × 12 columns</p>\n",
       "</div>"
      ],
      "text/plain": [
       "     Age  Sex  ChestPainType  RestingBP  Cholesterol  FastingBS  RestingECG  \\\n",
       "0     40    1              1        140          289          0           1   \n",
       "1     49    2              2        160          180          0           1   \n",
       "2     37    1              1        130          283          0           2   \n",
       "3     48    2              3        138          214          0           1   \n",
       "4     54    1              2        150          195          0           1   \n",
       "..   ...  ...            ...        ...          ...        ...         ...   \n",
       "913   45    1              4        110          264          0           1   \n",
       "914   68    1              3        144          193          1           1   \n",
       "915   57    1              3        130          131          0           1   \n",
       "916   57    2              1        130          236          0           3   \n",
       "917   38    1              2        138          175          0           1   \n",
       "\n",
       "     MaxHR  ExerciseAngina  Oldpeak  ST_Slope  HeartDisease  \n",
       "0      172               1      0.0         1             0  \n",
       "1      156               1      1.0         2             1  \n",
       "2       98               1      0.0         1             0  \n",
       "3      108               2      1.5         2             1  \n",
       "4      122               1      0.0         1             0  \n",
       "..     ...             ...      ...       ...           ...  \n",
       "913    132               1      1.2         2             1  \n",
       "914    141               1      3.4         2             1  \n",
       "915    115               2      1.2         2             1  \n",
       "916    174               1      0.0         2             1  \n",
       "917    173               1      0.0         1             0  \n",
       "\n",
       "[918 rows x 12 columns]"
      ]
     },
     "execution_count": 11,
     "metadata": {},
     "output_type": "execute_result"
    }
   ],
   "source": [
    "dfs"
   ]
  },
  {
   "cell_type": "code",
   "execution_count": 12,
   "id": "e05208ae",
   "metadata": {},
   "outputs": [],
   "source": [
    "X = dfs.drop(['HeartDisease'], axis = 1)\n",
    "\n",
    "y = dfs['HeartDisease']"
   ]
  },
  {
   "cell_type": "code",
   "execution_count": 13,
   "id": "926bed3e",
   "metadata": {},
   "outputs": [
    {
     "name": "stderr",
     "output_type": "stream",
     "text": [
      "C:\\Users\\Admin\\anaconda3\\lib\\site-packages\\scipy\\__init__.py:146: UserWarning: A NumPy version >=1.16.5 and <1.23.0 is required for this version of SciPy (detected version 1.23.0\n",
      "  warnings.warn(f\"A NumPy version >={np_minversion} and <{np_maxversion}\"\n"
     ]
    }
   ],
   "source": [
    "from sklearn.model_selection import train_test_split"
   ]
  },
  {
   "cell_type": "code",
   "execution_count": 14,
   "id": "07d5e9c8",
   "metadata": {},
   "outputs": [],
   "source": [
    "x_train, x_test, y_train, y_test = train_test_split(X, y, test_size = 0.2, random_state = 0)"
   ]
  },
  {
   "cell_type": "code",
   "execution_count": 15,
   "id": "b4f0f087",
   "metadata": {},
   "outputs": [
    {
     "data": {
      "text/plain": [
       "(734, 11)"
      ]
     },
     "execution_count": 15,
     "metadata": {},
     "output_type": "execute_result"
    }
   ],
   "source": [
    "x_train.shape"
   ]
  },
  {
   "cell_type": "code",
   "execution_count": 16,
   "id": "55b4ece4",
   "metadata": {},
   "outputs": [
    {
     "data": {
      "text/plain": [
       "(184, 11)"
      ]
     },
     "execution_count": 16,
     "metadata": {},
     "output_type": "execute_result"
    }
   ],
   "source": [
    "x_test.shape"
   ]
  },
  {
   "cell_type": "code",
   "execution_count": 17,
   "id": "8e270b09",
   "metadata": {},
   "outputs": [
    {
     "data": {
      "text/plain": [
       "(734,)"
      ]
     },
     "execution_count": 17,
     "metadata": {},
     "output_type": "execute_result"
    }
   ],
   "source": [
    "y_train.shape"
   ]
  },
  {
   "cell_type": "code",
   "execution_count": 18,
   "id": "1ecdb53f",
   "metadata": {},
   "outputs": [
    {
     "data": {
      "text/plain": [
       "(184,)"
      ]
     },
     "execution_count": 18,
     "metadata": {},
     "output_type": "execute_result"
    }
   ],
   "source": [
    "y_test.shape"
   ]
  },
  {
   "cell_type": "code",
   "execution_count": 19,
   "id": "94c6164e",
   "metadata": {},
   "outputs": [],
   "source": [
    "from sklearn.preprocessing import StandardScaler"
   ]
  },
  {
   "cell_type": "code",
   "execution_count": 20,
   "id": "83fa3078",
   "metadata": {},
   "outputs": [],
   "source": [
    "sc = StandardScaler()\n",
    "X_train = sc.fit_transform(x_train)\n",
    "X_test = sc.fit_transform(x_test)"
   ]
  },
  {
   "cell_type": "code",
   "execution_count": 21,
   "id": "9bc3d8d3",
   "metadata": {},
   "outputs": [],
   "source": [
    "import tensorflow as tf"
   ]
  },
  {
   "cell_type": "code",
   "execution_count": 22,
   "id": "efd2a9c0",
   "metadata": {},
   "outputs": [],
   "source": [
    "from keras.models import Sequential\n",
    "from keras.layers import Dense\n",
    "from keras.layers import Activation\n",
    "import tensorflow as tf"
   ]
  },
  {
   "cell_type": "code",
   "execution_count": 23,
   "id": "30242dfd",
   "metadata": {},
   "outputs": [],
   "source": [
    "rms_model = Sequential()\n"
   ]
  },
  {
   "cell_type": "code",
   "execution_count": 24,
   "id": "b7c06897",
   "metadata": {},
   "outputs": [
    {
     "name": "stdout",
     "output_type": "stream",
     "text": [
      "Epoch 1/150\n",
      "30/30 [==============================] - 1s 8ms/step - loss: 0.6924 - accuracy: 0.5477 - val_loss: 0.6897 - val_accuracy: 0.5815\n",
      "Epoch 2/150\n",
      "30/30 [==============================] - 0s 2ms/step - loss: 0.6812 - accuracy: 0.5463 - val_loss: 0.6646 - val_accuracy: 0.5815\n",
      "Epoch 3/150\n",
      "30/30 [==============================] - 0s 2ms/step - loss: 0.6345 - accuracy: 0.7125 - val_loss: 0.5954 - val_accuracy: 0.7989\n",
      "Epoch 4/150\n",
      "30/30 [==============================] - 0s 2ms/step - loss: 0.5520 - accuracy: 0.8583 - val_loss: 0.5134 - val_accuracy: 0.8152\n",
      "Epoch 5/150\n",
      "30/30 [==============================] - 0s 2ms/step - loss: 0.4939 - accuracy: 0.8610 - val_loss: 0.4767 - val_accuracy: 0.8261\n",
      "Epoch 6/150\n",
      "30/30 [==============================] - 0s 2ms/step - loss: 0.4643 - accuracy: 0.8569 - val_loss: 0.4546 - val_accuracy: 0.8315\n",
      "Epoch 7/150\n",
      "30/30 [==============================] - 0s 2ms/step - loss: 0.4337 - accuracy: 0.8569 - val_loss: 0.4287 - val_accuracy: 0.8315\n",
      "Epoch 8/150\n",
      "30/30 [==============================] - 0s 2ms/step - loss: 0.4003 - accuracy: 0.8583 - val_loss: 0.4090 - val_accuracy: 0.8315\n",
      "Epoch 9/150\n",
      "30/30 [==============================] - 0s 2ms/step - loss: 0.3718 - accuracy: 0.8597 - val_loss: 0.4007 - val_accuracy: 0.8315\n",
      "Epoch 10/150\n",
      "30/30 [==============================] - 0s 2ms/step - loss: 0.3524 - accuracy: 0.8569 - val_loss: 0.4020 - val_accuracy: 0.8315\n",
      "Epoch 11/150\n",
      "30/30 [==============================] - 0s 2ms/step - loss: 0.3431 - accuracy: 0.8624 - val_loss: 0.4058 - val_accuracy: 0.8315\n",
      "Epoch 12/150\n",
      "30/30 [==============================] - 0s 2ms/step - loss: 0.3360 - accuracy: 0.8678 - val_loss: 0.4099 - val_accuracy: 0.8315\n",
      "Epoch 13/150\n",
      "30/30 [==============================] - 0s 2ms/step - loss: 0.3307 - accuracy: 0.8678 - val_loss: 0.4097 - val_accuracy: 0.8478\n",
      "Epoch 14/150\n",
      "30/30 [==============================] - 0s 2ms/step - loss: 0.3283 - accuracy: 0.8692 - val_loss: 0.4147 - val_accuracy: 0.8478\n",
      "Epoch 15/150\n",
      "30/30 [==============================] - 0s 2ms/step - loss: 0.3256 - accuracy: 0.8719 - val_loss: 0.4116 - val_accuracy: 0.8478\n",
      "Epoch 16/150\n",
      "30/30 [==============================] - 0s 2ms/step - loss: 0.3239 - accuracy: 0.8733 - val_loss: 0.4130 - val_accuracy: 0.8370\n",
      "Epoch 17/150\n",
      "30/30 [==============================] - 0s 2ms/step - loss: 0.3217 - accuracy: 0.8719 - val_loss: 0.4106 - val_accuracy: 0.8370\n",
      "Epoch 18/150\n",
      "30/30 [==============================] - 0s 2ms/step - loss: 0.3194 - accuracy: 0.8719 - val_loss: 0.4145 - val_accuracy: 0.8424\n",
      "Epoch 19/150\n",
      "30/30 [==============================] - 0s 2ms/step - loss: 0.3179 - accuracy: 0.8774 - val_loss: 0.4177 - val_accuracy: 0.8424\n",
      "Epoch 20/150\n",
      "30/30 [==============================] - 0s 2ms/step - loss: 0.3165 - accuracy: 0.8815 - val_loss: 0.4191 - val_accuracy: 0.8424\n",
      "Epoch 21/150\n",
      "30/30 [==============================] - 0s 2ms/step - loss: 0.3154 - accuracy: 0.8815 - val_loss: 0.4180 - val_accuracy: 0.8424\n",
      "Epoch 22/150\n",
      "30/30 [==============================] - 0s 2ms/step - loss: 0.3138 - accuracy: 0.8828 - val_loss: 0.4184 - val_accuracy: 0.8424\n",
      "Epoch 23/150\n",
      "30/30 [==============================] - 0s 2ms/step - loss: 0.3122 - accuracy: 0.8828 - val_loss: 0.4230 - val_accuracy: 0.8370\n",
      "Epoch 24/150\n",
      "30/30 [==============================] - 0s 2ms/step - loss: 0.3114 - accuracy: 0.8869 - val_loss: 0.4194 - val_accuracy: 0.8424\n",
      "Epoch 25/150\n",
      "30/30 [==============================] - 0s 2ms/step - loss: 0.3102 - accuracy: 0.8828 - val_loss: 0.4215 - val_accuracy: 0.8424\n",
      "Epoch 26/150\n",
      "30/30 [==============================] - 0s 2ms/step - loss: 0.3099 - accuracy: 0.8869 - val_loss: 0.4215 - val_accuracy: 0.8424\n",
      "Epoch 27/150\n",
      "30/30 [==============================] - 0s 2ms/step - loss: 0.3084 - accuracy: 0.8856 - val_loss: 0.4218 - val_accuracy: 0.8424\n",
      "Epoch 28/150\n",
      "30/30 [==============================] - 0s 2ms/step - loss: 0.3069 - accuracy: 0.8910 - val_loss: 0.4239 - val_accuracy: 0.8424\n",
      "Epoch 29/150\n",
      "30/30 [==============================] - 0s 2ms/step - loss: 0.3070 - accuracy: 0.8869 - val_loss: 0.4213 - val_accuracy: 0.8424\n",
      "Epoch 30/150\n",
      "30/30 [==============================] - 0s 2ms/step - loss: 0.3053 - accuracy: 0.8883 - val_loss: 0.4230 - val_accuracy: 0.8424\n",
      "Epoch 31/150\n",
      "30/30 [==============================] - 0s 2ms/step - loss: 0.3040 - accuracy: 0.8896 - val_loss: 0.4250 - val_accuracy: 0.8424\n",
      "Epoch 32/150\n",
      "30/30 [==============================] - 0s 2ms/step - loss: 0.3030 - accuracy: 0.8883 - val_loss: 0.4179 - val_accuracy: 0.8424\n",
      "Epoch 33/150\n",
      "30/30 [==============================] - 0s 2ms/step - loss: 0.3027 - accuracy: 0.8869 - val_loss: 0.4176 - val_accuracy: 0.8424\n",
      "Epoch 34/150\n",
      "30/30 [==============================] - 0s 2ms/step - loss: 0.3009 - accuracy: 0.8910 - val_loss: 0.4183 - val_accuracy: 0.8424\n",
      "Epoch 35/150\n",
      "30/30 [==============================] - 0s 2ms/step - loss: 0.2995 - accuracy: 0.8869 - val_loss: 0.4253 - val_accuracy: 0.8424\n",
      "Epoch 36/150\n",
      "30/30 [==============================] - 0s 2ms/step - loss: 0.3004 - accuracy: 0.8896 - val_loss: 0.4195 - val_accuracy: 0.8478\n",
      "Epoch 37/150\n",
      "30/30 [==============================] - 0s 2ms/step - loss: 0.2984 - accuracy: 0.8869 - val_loss: 0.4190 - val_accuracy: 0.8424\n",
      "Epoch 38/150\n",
      "30/30 [==============================] - 0s 2ms/step - loss: 0.2981 - accuracy: 0.8896 - val_loss: 0.4227 - val_accuracy: 0.8478\n",
      "Epoch 39/150\n",
      "30/30 [==============================] - 0s 2ms/step - loss: 0.2975 - accuracy: 0.8896 - val_loss: 0.4251 - val_accuracy: 0.8424\n",
      "Epoch 40/150\n",
      "30/30 [==============================] - 0s 2ms/step - loss: 0.2970 - accuracy: 0.8856 - val_loss: 0.4237 - val_accuracy: 0.8478\n",
      "Epoch 41/150\n",
      "30/30 [==============================] - 0s 2ms/step - loss: 0.2964 - accuracy: 0.8896 - val_loss: 0.4230 - val_accuracy: 0.8478\n",
      "Epoch 42/150\n",
      "30/30 [==============================] - 0s 2ms/step - loss: 0.2957 - accuracy: 0.8910 - val_loss: 0.4251 - val_accuracy: 0.8478\n",
      "Epoch 43/150\n",
      "30/30 [==============================] - 0s 2ms/step - loss: 0.2929 - accuracy: 0.8924 - val_loss: 0.4311 - val_accuracy: 0.8424\n",
      "Epoch 44/150\n",
      "30/30 [==============================] - 0s 2ms/step - loss: 0.2950 - accuracy: 0.8883 - val_loss: 0.4262 - val_accuracy: 0.8478\n",
      "Epoch 45/150\n",
      "30/30 [==============================] - 0s 2ms/step - loss: 0.2932 - accuracy: 0.8910 - val_loss: 0.4260 - val_accuracy: 0.8478\n",
      "Epoch 46/150\n",
      "30/30 [==============================] - 0s 2ms/step - loss: 0.2929 - accuracy: 0.8910 - val_loss: 0.4256 - val_accuracy: 0.8478\n",
      "Epoch 47/150\n",
      "30/30 [==============================] - 0s 2ms/step - loss: 0.2928 - accuracy: 0.8896 - val_loss: 0.4202 - val_accuracy: 0.8478\n",
      "Epoch 48/150\n",
      "30/30 [==============================] - 0s 2ms/step - loss: 0.2915 - accuracy: 0.8896 - val_loss: 0.4195 - val_accuracy: 0.8478\n",
      "Epoch 49/150\n",
      "30/30 [==============================] - 0s 2ms/step - loss: 0.2905 - accuracy: 0.8924 - val_loss: 0.4232 - val_accuracy: 0.8478\n",
      "Epoch 50/150\n",
      "30/30 [==============================] - 0s 2ms/step - loss: 0.2904 - accuracy: 0.8910 - val_loss: 0.4237 - val_accuracy: 0.8478\n",
      "Epoch 51/150\n",
      "30/30 [==============================] - 0s 2ms/step - loss: 0.2889 - accuracy: 0.8924 - val_loss: 0.4239 - val_accuracy: 0.8478\n",
      "Epoch 52/150\n",
      "30/30 [==============================] - 0s 2ms/step - loss: 0.2896 - accuracy: 0.8869 - val_loss: 0.4219 - val_accuracy: 0.8478\n",
      "Epoch 53/150\n",
      "30/30 [==============================] - 0s 2ms/step - loss: 0.2887 - accuracy: 0.8910 - val_loss: 0.4234 - val_accuracy: 0.8478\n",
      "Epoch 54/150\n",
      "30/30 [==============================] - 0s 2ms/step - loss: 0.2880 - accuracy: 0.8924 - val_loss: 0.4215 - val_accuracy: 0.8424\n",
      "Epoch 55/150\n",
      "30/30 [==============================] - 0s 2ms/step - loss: 0.2877 - accuracy: 0.8924 - val_loss: 0.4228 - val_accuracy: 0.8478\n",
      "Epoch 56/150\n",
      "30/30 [==============================] - 0s 2ms/step - loss: 0.2864 - accuracy: 0.8910 - val_loss: 0.4259 - val_accuracy: 0.8424\n",
      "Epoch 57/150\n",
      "30/30 [==============================] - 0s 2ms/step - loss: 0.2856 - accuracy: 0.8910 - val_loss: 0.4228 - val_accuracy: 0.8424\n",
      "Epoch 58/150\n",
      "30/30 [==============================] - 0s 2ms/step - loss: 0.2853 - accuracy: 0.8937 - val_loss: 0.4201 - val_accuracy: 0.8478\n"
     ]
    },
    {
     "name": "stdout",
     "output_type": "stream",
     "text": [
      "Epoch 59/150\n",
      "30/30 [==============================] - 0s 2ms/step - loss: 0.2848 - accuracy: 0.8937 - val_loss: 0.4204 - val_accuracy: 0.8478\n",
      "Epoch 60/150\n",
      "30/30 [==============================] - 0s 2ms/step - loss: 0.2835 - accuracy: 0.8937 - val_loss: 0.4169 - val_accuracy: 0.8478\n",
      "Epoch 61/150\n",
      "30/30 [==============================] - 0s 2ms/step - loss: 0.2826 - accuracy: 0.8951 - val_loss: 0.4197 - val_accuracy: 0.8478\n",
      "Epoch 62/150\n",
      "30/30 [==============================] - 0s 2ms/step - loss: 0.2825 - accuracy: 0.8937 - val_loss: 0.4193 - val_accuracy: 0.8424\n",
      "Epoch 63/150\n",
      "30/30 [==============================] - 0s 2ms/step - loss: 0.2804 - accuracy: 0.8978 - val_loss: 0.4161 - val_accuracy: 0.8478\n",
      "Epoch 64/150\n",
      "30/30 [==============================] - 0s 2ms/step - loss: 0.2805 - accuracy: 0.8937 - val_loss: 0.4194 - val_accuracy: 0.8478\n",
      "Epoch 65/150\n",
      "30/30 [==============================] - 0s 2ms/step - loss: 0.2792 - accuracy: 0.8937 - val_loss: 0.4184 - val_accuracy: 0.8478\n",
      "Epoch 66/150\n",
      "30/30 [==============================] - 0s 2ms/step - loss: 0.2789 - accuracy: 0.8965 - val_loss: 0.4187 - val_accuracy: 0.8478\n",
      "Epoch 67/150\n",
      "30/30 [==============================] - 0s 2ms/step - loss: 0.2780 - accuracy: 0.8978 - val_loss: 0.4173 - val_accuracy: 0.8478\n",
      "Epoch 68/150\n",
      "30/30 [==============================] - 0s 2ms/step - loss: 0.2766 - accuracy: 0.8978 - val_loss: 0.4207 - val_accuracy: 0.8424\n",
      "Epoch 69/150\n",
      "30/30 [==============================] - 0s 2ms/step - loss: 0.2757 - accuracy: 0.8978 - val_loss: 0.4155 - val_accuracy: 0.8478\n",
      "Epoch 70/150\n",
      "30/30 [==============================] - 0s 2ms/step - loss: 0.2755 - accuracy: 0.8965 - val_loss: 0.4153 - val_accuracy: 0.8533\n",
      "Epoch 71/150\n",
      "30/30 [==============================] - 0s 2ms/step - loss: 0.2742 - accuracy: 0.8992 - val_loss: 0.4203 - val_accuracy: 0.8478\n",
      "Epoch 72/150\n",
      "30/30 [==============================] - 0s 3ms/step - loss: 0.2729 - accuracy: 0.8992 - val_loss: 0.4190 - val_accuracy: 0.8478\n",
      "Epoch 73/150\n",
      "30/30 [==============================] - 0s 2ms/step - loss: 0.2710 - accuracy: 0.8978 - val_loss: 0.4202 - val_accuracy: 0.8424\n",
      "Epoch 74/150\n",
      "30/30 [==============================] - 0s 2ms/step - loss: 0.2715 - accuracy: 0.8978 - val_loss: 0.4216 - val_accuracy: 0.8478\n",
      "Epoch 75/150\n",
      "30/30 [==============================] - 0s 2ms/step - loss: 0.2704 - accuracy: 0.8978 - val_loss: 0.4159 - val_accuracy: 0.8478\n",
      "Epoch 76/150\n",
      "30/30 [==============================] - 0s 2ms/step - loss: 0.2689 - accuracy: 0.9019 - val_loss: 0.4236 - val_accuracy: 0.8478\n",
      "Epoch 77/150\n",
      "30/30 [==============================] - 0s 2ms/step - loss: 0.2691 - accuracy: 0.9005 - val_loss: 0.4209 - val_accuracy: 0.8424\n",
      "Epoch 78/150\n",
      "30/30 [==============================] - 0s 2ms/step - loss: 0.2678 - accuracy: 0.9005 - val_loss: 0.4183 - val_accuracy: 0.8424\n",
      "Epoch 79/150\n",
      "30/30 [==============================] - 0s 2ms/step - loss: 0.2674 - accuracy: 0.8992 - val_loss: 0.4249 - val_accuracy: 0.8370\n",
      "Epoch 80/150\n",
      "30/30 [==============================] - 0s 2ms/step - loss: 0.2665 - accuracy: 0.8992 - val_loss: 0.4206 - val_accuracy: 0.8370\n",
      "Epoch 81/150\n",
      "30/30 [==============================] - 0s 2ms/step - loss: 0.2659 - accuracy: 0.9019 - val_loss: 0.4219 - val_accuracy: 0.8424\n",
      "Epoch 82/150\n",
      "30/30 [==============================] - 0s 2ms/step - loss: 0.2650 - accuracy: 0.9005 - val_loss: 0.4214 - val_accuracy: 0.8370\n",
      "Epoch 83/150\n",
      "30/30 [==============================] - 0s 2ms/step - loss: 0.2630 - accuracy: 0.8978 - val_loss: 0.4281 - val_accuracy: 0.8370\n",
      "Epoch 84/150\n",
      "30/30 [==============================] - 0s 2ms/step - loss: 0.2635 - accuracy: 0.9005 - val_loss: 0.4231 - val_accuracy: 0.8315\n",
      "Epoch 85/150\n",
      "30/30 [==============================] - 0s 2ms/step - loss: 0.2617 - accuracy: 0.9033 - val_loss: 0.4270 - val_accuracy: 0.8315\n",
      "Epoch 86/150\n",
      "30/30 [==============================] - 0s 2ms/step - loss: 0.2612 - accuracy: 0.9033 - val_loss: 0.4257 - val_accuracy: 0.8424\n",
      "Epoch 87/150\n",
      "30/30 [==============================] - 0s 2ms/step - loss: 0.2604 - accuracy: 0.9019 - val_loss: 0.4236 - val_accuracy: 0.8261\n",
      "Epoch 88/150\n",
      "30/30 [==============================] - 0s 2ms/step - loss: 0.2593 - accuracy: 0.9046 - val_loss: 0.4260 - val_accuracy: 0.8315\n",
      "Epoch 89/150\n",
      "30/30 [==============================] - 0s 2ms/step - loss: 0.2589 - accuracy: 0.9046 - val_loss: 0.4286 - val_accuracy: 0.8370\n",
      "Epoch 90/150\n",
      "30/30 [==============================] - 0s 2ms/step - loss: 0.2585 - accuracy: 0.9046 - val_loss: 0.4225 - val_accuracy: 0.8261\n",
      "Epoch 91/150\n",
      "30/30 [==============================] - 0s 2ms/step - loss: 0.2572 - accuracy: 0.9005 - val_loss: 0.4231 - val_accuracy: 0.8261\n",
      "Epoch 92/150\n",
      "30/30 [==============================] - 0s 2ms/step - loss: 0.2561 - accuracy: 0.9046 - val_loss: 0.4162 - val_accuracy: 0.8315\n",
      "Epoch 93/150\n",
      "30/30 [==============================] - 0s 2ms/step - loss: 0.2551 - accuracy: 0.9087 - val_loss: 0.4294 - val_accuracy: 0.8370\n",
      "Epoch 94/150\n",
      "30/30 [==============================] - 0s 2ms/step - loss: 0.2555 - accuracy: 0.9101 - val_loss: 0.4238 - val_accuracy: 0.8315\n",
      "Epoch 95/150\n",
      "30/30 [==============================] - 0s 2ms/step - loss: 0.2540 - accuracy: 0.9101 - val_loss: 0.4227 - val_accuracy: 0.8370\n",
      "Epoch 96/150\n",
      "30/30 [==============================] - 0s 2ms/step - loss: 0.2532 - accuracy: 0.9074 - val_loss: 0.4214 - val_accuracy: 0.8424\n",
      "Epoch 97/150\n",
      "30/30 [==============================] - 0s 2ms/step - loss: 0.2540 - accuracy: 0.9046 - val_loss: 0.4242 - val_accuracy: 0.8370\n",
      "Epoch 98/150\n",
      "30/30 [==============================] - 0s 2ms/step - loss: 0.2513 - accuracy: 0.9060 - val_loss: 0.4225 - val_accuracy: 0.8261\n",
      "Epoch 99/150\n",
      "30/30 [==============================] - 0s 2ms/step - loss: 0.2511 - accuracy: 0.9060 - val_loss: 0.4253 - val_accuracy: 0.8315\n",
      "Epoch 100/150\n",
      "30/30 [==============================] - 0s 2ms/step - loss: 0.2505 - accuracy: 0.9087 - val_loss: 0.4240 - val_accuracy: 0.8261\n",
      "Epoch 101/150\n",
      "30/30 [==============================] - 0s 2ms/step - loss: 0.2507 - accuracy: 0.9074 - val_loss: 0.4310 - val_accuracy: 0.8315\n",
      "Epoch 102/150\n",
      "30/30 [==============================] - 0s 2ms/step - loss: 0.2508 - accuracy: 0.9074 - val_loss: 0.4315 - val_accuracy: 0.8370\n",
      "Epoch 103/150\n",
      "30/30 [==============================] - 0s 2ms/step - loss: 0.2478 - accuracy: 0.9033 - val_loss: 0.4278 - val_accuracy: 0.8370\n",
      "Epoch 104/150\n",
      "30/30 [==============================] - 0s 2ms/step - loss: 0.2491 - accuracy: 0.9074 - val_loss: 0.4299 - val_accuracy: 0.8315\n",
      "Epoch 105/150\n",
      "30/30 [==============================] - 0s 2ms/step - loss: 0.2480 - accuracy: 0.9060 - val_loss: 0.4257 - val_accuracy: 0.8370\n",
      "Epoch 106/150\n",
      "30/30 [==============================] - 0s 2ms/step - loss: 0.2472 - accuracy: 0.9101 - val_loss: 0.4252 - val_accuracy: 0.8315\n",
      "Epoch 107/150\n",
      "30/30 [==============================] - 0s 2ms/step - loss: 0.2456 - accuracy: 0.9087 - val_loss: 0.4328 - val_accuracy: 0.8315\n",
      "Epoch 108/150\n",
      "30/30 [==============================] - 0s 2ms/step - loss: 0.2457 - accuracy: 0.9060 - val_loss: 0.4248 - val_accuracy: 0.8315\n",
      "Epoch 109/150\n",
      "30/30 [==============================] - 0s 2ms/step - loss: 0.2449 - accuracy: 0.9074 - val_loss: 0.4283 - val_accuracy: 0.8315\n",
      "Epoch 110/150\n",
      "30/30 [==============================] - 0s 2ms/step - loss: 0.2451 - accuracy: 0.9087 - val_loss: 0.4358 - val_accuracy: 0.8261\n",
      "Epoch 111/150\n",
      "30/30 [==============================] - 0s 2ms/step - loss: 0.2446 - accuracy: 0.9087 - val_loss: 0.4279 - val_accuracy: 0.8315\n",
      "Epoch 112/150\n",
      "30/30 [==============================] - 0s 2ms/step - loss: 0.2443 - accuracy: 0.9060 - val_loss: 0.4354 - val_accuracy: 0.8315\n",
      "Epoch 113/150\n",
      "30/30 [==============================] - 0s 2ms/step - loss: 0.2431 - accuracy: 0.9101 - val_loss: 0.4346 - val_accuracy: 0.8261\n",
      "Epoch 114/150\n",
      "30/30 [==============================] - 0s 2ms/step - loss: 0.2414 - accuracy: 0.9114 - val_loss: 0.4449 - val_accuracy: 0.8370\n",
      "Epoch 115/150\n",
      "30/30 [==============================] - 0s 2ms/step - loss: 0.2427 - accuracy: 0.9074 - val_loss: 0.4425 - val_accuracy: 0.8315\n",
      "Epoch 116/150\n"
     ]
    },
    {
     "name": "stdout",
     "output_type": "stream",
     "text": [
      "30/30 [==============================] - 0s 2ms/step - loss: 0.2417 - accuracy: 0.9087 - val_loss: 0.4382 - val_accuracy: 0.8261\n",
      "Epoch 117/150\n",
      "30/30 [==============================] - 0s 2ms/step - loss: 0.2415 - accuracy: 0.9142 - val_loss: 0.4348 - val_accuracy: 0.8315\n",
      "Epoch 118/150\n",
      "30/30 [==============================] - 0s 2ms/step - loss: 0.2415 - accuracy: 0.9060 - val_loss: 0.4339 - val_accuracy: 0.8315\n",
      "Epoch 119/150\n",
      "30/30 [==============================] - 0s 2ms/step - loss: 0.2400 - accuracy: 0.9128 - val_loss: 0.4339 - val_accuracy: 0.8261\n",
      "Epoch 120/150\n",
      "30/30 [==============================] - 0s 2ms/step - loss: 0.2384 - accuracy: 0.9114 - val_loss: 0.4300 - val_accuracy: 0.8370\n",
      "Epoch 121/150\n",
      "30/30 [==============================] - 0s 2ms/step - loss: 0.2386 - accuracy: 0.9128 - val_loss: 0.4353 - val_accuracy: 0.8152\n",
      "Epoch 122/150\n",
      "30/30 [==============================] - 0s 2ms/step - loss: 0.2370 - accuracy: 0.9128 - val_loss: 0.4324 - val_accuracy: 0.8261\n",
      "Epoch 123/150\n",
      "30/30 [==============================] - 0s 2ms/step - loss: 0.2370 - accuracy: 0.9128 - val_loss: 0.4350 - val_accuracy: 0.8261\n",
      "Epoch 124/150\n",
      "30/30 [==============================] - 0s 2ms/step - loss: 0.2381 - accuracy: 0.9101 - val_loss: 0.4302 - val_accuracy: 0.8315\n",
      "Epoch 125/150\n",
      "30/30 [==============================] - 0s 2ms/step - loss: 0.2351 - accuracy: 0.9114 - val_loss: 0.4344 - val_accuracy: 0.8370\n",
      "Epoch 126/150\n",
      "30/30 [==============================] - 0s 2ms/step - loss: 0.2336 - accuracy: 0.9169 - val_loss: 0.4370 - val_accuracy: 0.8315\n",
      "Epoch 127/150\n",
      "30/30 [==============================] - 0s 2ms/step - loss: 0.2350 - accuracy: 0.9183 - val_loss: 0.4324 - val_accuracy: 0.8370\n",
      "Epoch 128/150\n",
      "30/30 [==============================] - 0s 2ms/step - loss: 0.2327 - accuracy: 0.9169 - val_loss: 0.4319 - val_accuracy: 0.8370\n",
      "Epoch 129/150\n",
      "30/30 [==============================] - 0s 2ms/step - loss: 0.2311 - accuracy: 0.9169 - val_loss: 0.4350 - val_accuracy: 0.8370\n",
      "Epoch 130/150\n",
      "30/30 [==============================] - 0s 2ms/step - loss: 0.2301 - accuracy: 0.9142 - val_loss: 0.4312 - val_accuracy: 0.8370\n",
      "Epoch 131/150\n",
      "30/30 [==============================] - 0s 2ms/step - loss: 0.2306 - accuracy: 0.9196 - val_loss: 0.4354 - val_accuracy: 0.8424\n",
      "Epoch 132/150\n",
      "30/30 [==============================] - 0s 2ms/step - loss: 0.2265 - accuracy: 0.9196 - val_loss: 0.4315 - val_accuracy: 0.8370\n",
      "Epoch 133/150\n",
      "30/30 [==============================] - 0s 2ms/step - loss: 0.2281 - accuracy: 0.9183 - val_loss: 0.4326 - val_accuracy: 0.8370\n",
      "Epoch 134/150\n",
      "30/30 [==============================] - 0s 2ms/step - loss: 0.2266 - accuracy: 0.9210 - val_loss: 0.4459 - val_accuracy: 0.8424\n",
      "Epoch 135/150\n",
      "30/30 [==============================] - 0s 2ms/step - loss: 0.2265 - accuracy: 0.9183 - val_loss: 0.4425 - val_accuracy: 0.8424\n",
      "Epoch 136/150\n",
      "30/30 [==============================] - 0s 2ms/step - loss: 0.2259 - accuracy: 0.9196 - val_loss: 0.4347 - val_accuracy: 0.8478\n",
      "Epoch 137/150\n",
      "30/30 [==============================] - 0s 2ms/step - loss: 0.2238 - accuracy: 0.9196 - val_loss: 0.4388 - val_accuracy: 0.8424\n",
      "Epoch 138/150\n",
      "30/30 [==============================] - 0s 2ms/step - loss: 0.2237 - accuracy: 0.9223 - val_loss: 0.4462 - val_accuracy: 0.8478\n",
      "Epoch 139/150\n",
      "30/30 [==============================] - 0s 2ms/step - loss: 0.2226 - accuracy: 0.9210 - val_loss: 0.4406 - val_accuracy: 0.8424\n",
      "Epoch 140/150\n",
      "30/30 [==============================] - 0s 2ms/step - loss: 0.2222 - accuracy: 0.9155 - val_loss: 0.4395 - val_accuracy: 0.8478\n",
      "Epoch 141/150\n",
      "30/30 [==============================] - 0s 2ms/step - loss: 0.2202 - accuracy: 0.9183 - val_loss: 0.4345 - val_accuracy: 0.8424\n",
      "Epoch 142/150\n",
      "30/30 [==============================] - 0s 2ms/step - loss: 0.2201 - accuracy: 0.9183 - val_loss: 0.4498 - val_accuracy: 0.8533\n",
      "Epoch 143/150\n",
      "30/30 [==============================] - 0s 2ms/step - loss: 0.2195 - accuracy: 0.9210 - val_loss: 0.4430 - val_accuracy: 0.8533\n",
      "Epoch 144/150\n",
      "30/30 [==============================] - 0s 2ms/step - loss: 0.2177 - accuracy: 0.9223 - val_loss: 0.4315 - val_accuracy: 0.8478\n",
      "Epoch 145/150\n",
      "30/30 [==============================] - 0s 2ms/step - loss: 0.2172 - accuracy: 0.9237 - val_loss: 0.4377 - val_accuracy: 0.8478\n",
      "Epoch 146/150\n",
      "30/30 [==============================] - 0s 2ms/step - loss: 0.2164 - accuracy: 0.9292 - val_loss: 0.4355 - val_accuracy: 0.8478\n",
      "Epoch 147/150\n",
      "30/30 [==============================] - 0s 2ms/step - loss: 0.2168 - accuracy: 0.9128 - val_loss: 0.4375 - val_accuracy: 0.8424\n",
      "Epoch 148/150\n",
      "30/30 [==============================] - 0s 2ms/step - loss: 0.2145 - accuracy: 0.9278 - val_loss: 0.4419 - val_accuracy: 0.8587\n",
      "Epoch 149/150\n",
      "30/30 [==============================] - 0s 2ms/step - loss: 0.2139 - accuracy: 0.9223 - val_loss: 0.4537 - val_accuracy: 0.8533\n",
      "Epoch 150/150\n",
      "30/30 [==============================] - 0s 2ms/step - loss: 0.2146 - accuracy: 0.9251 - val_loss: 0.4502 - val_accuracy: 0.8587\n"
     ]
    },
    {
     "data": {
      "text/plain": [
       "<keras.callbacks.History at 0x26af5047df0>"
      ]
     },
     "execution_count": 24,
     "metadata": {},
     "output_type": "execute_result"
    }
   ],
   "source": [
    "\n",
    "rms_model.add(Dense(units=16,kernel_initializer='uniform',activation='relu',input_dim=11))\n",
    "rms_model.add(Dense(units = 16,kernel_initializer='uniform',activation='relu'))\n",
    "rms_model.add(Dense(units = 8,kernel_initializer='uniform',activation='relu'))\n",
    "rms_model.add(Dense(units = 16,kernel_initializer='uniform',activation='relu'))\n",
    "rms_model.add(Dense(units=1,kernel_initializer='uniform',activation='sigmoid'))\n",
    "rms_model.compile(optimizer='rmsprop',loss='binary_crossentropy',metrics=['accuracy'])\n",
    "rms_model.fit(x=X_train,y=y_train,batch_size=25,epochs=150,validation_data=(X_test,y_test))"
   ]
  },
  {
   "cell_type": "code",
   "execution_count": 25,
   "id": "3843f91a",
   "metadata": {},
   "outputs": [
    {
     "name": "stdout",
     "output_type": "stream",
     "text": [
      "6/6 [==============================] - 0s 1ms/step - loss: 0.4502 - accuracy: 0.8587\n"
     ]
    },
    {
     "data": {
      "text/plain": [
       "[0.4501868188381195, 0.8586956262588501]"
      ]
     },
     "execution_count": 25,
     "metadata": {},
     "output_type": "execute_result"
    }
   ],
   "source": [
    "rms_model.evaluate(X_test, y_test)"
   ]
  },
  {
   "cell_type": "code",
   "execution_count": 26,
   "id": "19b8a877",
   "metadata": {},
   "outputs": [
    {
     "name": "stdout",
     "output_type": "stream",
     "text": [
      "6/6 [==============================] - 0s 1ms/step\n"
     ]
    },
    {
     "data": {
      "text/plain": [
       "array([[0.98711795],\n",
       "       [0.6541587 ],\n",
       "       [0.99875826],\n",
       "       [0.94231313],\n",
       "       [0.01859079]], dtype=float32)"
      ]
     },
     "execution_count": 26,
     "metadata": {},
     "output_type": "execute_result"
    }
   ],
   "source": [
    "yp = rms_model.predict(X_test)\n",
    "yp[:5]"
   ]
  },
  {
   "cell_type": "code",
   "execution_count": 27,
   "id": "f7074ccd",
   "metadata": {},
   "outputs": [],
   "source": [
    "y_pred = []\n",
    "for element in yp:\n",
    "    if element > 0.5:\n",
    "        y_pred.append(1)\n",
    "    else:\n",
    "        y_pred.append(0)"
   ]
  },
  {
   "cell_type": "code",
   "execution_count": 28,
   "id": "9f28b2f2",
   "metadata": {},
   "outputs": [
    {
     "name": "stdout",
     "output_type": "stream",
     "text": [
      "              precision    recall  f1-score   support\n",
      "\n",
      "           0       0.83      0.83      0.83        77\n",
      "           1       0.88      0.88      0.88       107\n",
      "\n",
      "    accuracy                           0.86       184\n",
      "   macro avg       0.85      0.85      0.85       184\n",
      "weighted avg       0.86      0.86      0.86       184\n",
      "\n"
     ]
    }
   ],
   "source": [
    "from sklearn.metrics import confusion_matrix , classification_report\n",
    "\n",
    "print(classification_report(y_test,y_pred))"
   ]
  },
  {
   "cell_type": "code",
   "execution_count": 29,
   "id": "84cf714a",
   "metadata": {},
   "outputs": [
    {
     "data": {
      "text/plain": [
       "Text(69.0, 0.5, 'Truth')"
      ]
     },
     "execution_count": 29,
     "metadata": {},
     "output_type": "execute_result"
    },
    {
     "data": {
      "image/png": "[encoded data removed]",
      "text/plain": [
       "<Figure size 720x504 with 2 Axes>"
      ]
     },
     "metadata": {
      "needs_background": "light"
     },
     "output_type": "display_data"
    }
   ],
   "source": [
    "import seaborn as sn\n",
    "cm = tf.math.confusion_matrix(labels=y_test,predictions=y_pred)\n",
    "\n",
    "plt.figure(figsize = (10,7))\n",
    "sn.heatmap(cm, annot=True, fmt='d')\n",
    "plt.xlabel('Predicted')\n",
    "plt.ylabel('Truth')"
   ]
  },
  {
   "cell_type": "code",
   "execution_count": null,
   "id": "5edb9533",
   "metadata": {},
   "outputs": [],
   "source": []
  }
 ],
 "metadata": {
  "kernelspec": {
   "display_name": "Python 3 (ipykernel)",
   "language": "python",
   "name": "python3"
  },
  "language_info": {
   "codemirror_mode": {
    "name": "ipython",
    "version": 3
   },
   "file_extension": ".py",
   "mimetype": "text/x-python",
   "name": "python",
   "nbconvert_exporter": "python",
   "pygments_lexer": "ipython3",
   "version": "3.9.12"
  }
 },
 "nbformat": 4,
 "nbformat_minor": 5
}
